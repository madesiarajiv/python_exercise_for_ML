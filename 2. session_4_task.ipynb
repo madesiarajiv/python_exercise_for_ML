{
  "cells": [
    {
      "cell_type": "markdown",
      "metadata": {
        "id": "kLZ_vCeE0lsM"
      },
      "source": [
        "###`Problem 1:` Combine two lists index-wise(columns wise)\n",
        "\n",
        "Write a program to add two lists index-wise. Create a new list that contains the 0th index item from both the list, then the 1st index item, and so on till the last element. any leftover items will get added at the end of the new list.\n",
        "\n",
        "`Given List:`\n",
        "```\n",
        "list1 = [\"M\", \"na\", \"i\", \"Kh\"]\n",
        "list2 = [\"y\", \"me\", \"s\", \"an\"]\n",
        "```\n",
        "\n",
        "`Output:`\n",
        "```\n",
        "[['M','y'], ['na', me'], ['i', 's'], ['Kh', 'an']]\n",
        "```"
      ]
    },
    {
      "cell_type": "code",
      "execution_count": null,
      "metadata": {
        "id": "cDO3Yv6p0nnG"
      },
      "outputs": [],
      "source": [
        "list1 = [\"M\", \"na\", \"i\", \"Kh\"]\n",
        "list2 = [\"y\", \"me\", \"s\", \"an\"]\n",
        "\n",
        "[[i,j] for (i,j) in zip(list1,list2)]"
      ]
    },
    {
      "cell_type": "markdown",
      "metadata": {
        "id": "bnRwRgf_0qLu"
      },
      "source": [
        "### `Problem 2:` Add new item to list after a specified item\n",
        "Write a program to add item 7000 after 6000 in the following Python List\n",
        "```\n",
        "list1 = [10, 20, [300, 400, [5000, 6000], 500], 30, 40]\n",
        "```\n",
        "`Output:`\n",
        "```\n",
        "[10, 20, [300, 400, [5000, 6000, 7000], 500], 30, 40]\n",
        "```"
      ]
    },
    {
      "cell_type": "code",
      "execution_count": null,
      "metadata": {
        "id": "yW5lLPns00q9"
      },
      "outputs": [],
      "source": [
        "list1 = [10, 20, [300, 400, [5000, 6000], 500], 30, 40]\n",
        "list1[2][2].append(7000)\n"
      ]
    },
    {
      "cell_type": "markdown",
      "metadata": {
        "id": "w7fC8oHk02fH"
      },
      "source": [
        "###`Problem 3:` Update no of items available\n",
        "\n",
        "Suppose you are given a list of candy and another list of same size representing no of items of respective candy.\n",
        "\n",
        "i.e -  \n",
        "```\n",
        "candy_list = ['Jelly Belly','Kit Kat','Double Bubble','Milky Way','Three Musketeers']\n",
        "no_of_items = [10,20,34,74,32]\n",
        "```\n",
        "\n",
        "Write a program to show no. of items of each candy type.\n",
        "\n",
        "`Output:`\n",
        "\n",
        "```\n",
        "Jelly Belly-10\n",
        "Kit Kat-20\n",
        "Double Bubble-34\n",
        "Milky Way-74\n",
        "Three Musketeers-32\n",
        "\n",
        "```"
      ]
    },
    {
      "cell_type": "code",
      "execution_count": null,
      "metadata": {
        "id": "gg5JEX1a09q8"
      },
      "outputs": [],
      "source": [
        "candy_list = ['Jelly Belly','Kit Kat','Double Bubble','Milky Way','Three Musketeers']\n",
        "no_of_items = [10,20,34,74,32]\n",
        "\n",
        "for i in range(len(candy_list)):\n",
        "    print(candy_list[i], no_of_items[i], sep= \"-\")\n"
      ]
    },
    {
      "cell_type": "markdown",
      "metadata": {
        "id": "mFGZAvnB1D3N"
      },
      "source": [
        "###`Problem 4:` Running Sum on list\n",
        "Write a program to print a list after performing running sum on it.\n",
        "\n",
        "i.e:\n",
        "\n",
        "`Input:`\n",
        "```\n",
        "list1 = [1,2,3,4,5,6]\n",
        "```\n",
        "`Output:`\n",
        "```\n",
        "[1,3,6,10,15,21]\n",
        "```"
      ]
    },
    {
      "cell_type": "code",
      "execution_count": null,
      "metadata": {
        "id": "8LPS6DaD1FTs"
      },
      "outputs": [],
      "source": [
        "list1 = [1,2,3,4,5,6]\n",
        "\n",
        "new_list = []\n",
        "\n",
        "current_sum = 0\n",
        "for i in list1:\n",
        "    current_sum += i\n",
        "    new_list.append(current_sum)\n",
        "print(new_list)\n",
        "\n"
      ]
    },
    {
      "cell_type": "markdown",
      "metadata": {
        "id": "2ztcZ-EW1HEU"
      },
      "source": [
        "###`Problem 5:` You are given a list of integers. You are asked to make a list by running through elements of the list by adding all elements greater and itself.\n",
        "\n",
        "i.e. Say given list is `[2,4,6,10,1]`\n",
        "resultant list will be `[22,20,10,23]`.\n",
        "\n",
        "For 1st element `2` ->> these are greater `(4+6+10)` values and `2` itself so on adding becomes `22`.\n",
        "\n",
        "For 2nd element `4` ->> greater elements are `(6, 10)` and `4` itself, so on adding `20`\n",
        "\n",
        "like wise for all other elememts.\n",
        "\n",
        "`[2,4,6,10,1]`-->`[22,20,16,10,23]`\n",
        "\n",
        "\n"
      ]
    },
    {
      "cell_type": "code",
      "execution_count": null,
      "metadata": {
        "id": "UJuWqzj31UD2"
      },
      "outputs": [],
      "source": [
        "list2 = [2, 4, 6, 10, 1]\n",
        "result = []\n",
        "for i in list2:\n",
        "    sum = 0\n",
        "    for j in list2 :\n",
        "        if i<=j:\n",
        "            sum = sum+j\n",
        "    result.append(sum)\n",
        "print(result)\n",
        "            "
      ]
    },
    {
      "cell_type": "markdown",
      "metadata": {
        "id": "c9H6tYTx1ZYo"
      },
      "source": [
        "###`Problem 6:` Find list of common unique items from two list. and show in increasing order\n",
        "\n",
        "`Input`\n",
        "\n",
        "```\n",
        "num1 = [23,45,67,78,89,34]\n",
        "num2 = [34,89,55,56,39,67]\n",
        "```\n",
        "\n",
        "`Output:`\n",
        "```\n",
        "[34, 67, 89]\n",
        "```\n"
      ]
    },
    {
      "cell_type": "code",
      "execution_count": null,
      "metadata": {
        "id": "dDxdi7eE1e1W"
      },
      "outputs": [],
      "source": [
        "num1 = [23,45,67,78,89,34,67]\n",
        "num2 = [34,89,55,56,39,67,67]\n",
        "\n",
        "new_l= []\n",
        "for i in num1 :\n",
        "    if i in num2 :\n",
        "        if i not in new_l:\n",
        "            \n",
        "            new_l.append(i)\n",
        "print(new_l)\n",
        "new_l.sort()\n",
        "print(new_l)\n",
        "        "
      ]
    },
    {
      "cell_type": "markdown",
      "metadata": {
        "id": "i3Izok2i1gRD"
      },
      "source": [
        "###`Problem 7:` Sort a list of alphanumeric strings based on product value of numeric character in it. If in any string there is no numeric character take it's product value as 1.\n",
        "\n",
        "`Input:`\n",
        "```\n",
        "['1ac21', '23fg', '456', '098d','1','kls']\n",
        "```\n",
        "\n",
        "`Output:`\n",
        "```\n",
        "['456', '23fg', '1ac21', '1', 'kls', '098d']\n",
        "\n",
        "```"
      ]
    },
    {
      "cell_type": "code",
      "execution_count": null,
      "metadata": {
        "id": "eiXSanG11oq6"
      },
      "outputs": [],
      "source": [
        "new_l = []\n",
        "for i in l :\n",
        "    product = 1\n",
        "    for j in i:\n",
        "        if j.isdigit():\n",
        "            product = product*int(j)\n",
        "    new_l.append(product)\n",
        "            \n",
        "            \n",
        "print(new_l)    \n",
        "sorted(list(zip(new_l,l)),reverse = True)\n",
        "[i[1] for i in sorted(list(zip(new_l,l)),reverse = True)]\n",
        "\n"
      ]
    },
    {
      "cell_type": "markdown",
      "metadata": {
        "id": "McMaNSpB1zJB"
      },
      "source": [
        "`Problem 8:` Split String of list on K character.\n",
        "\n",
        "**Example :**\n",
        "\n",
        "Input:\n",
        "```bash\n",
        "['CampusX is a channel', 'for data-science', 'aspirants.']\n",
        "```\n",
        "\n",
        "Output:\n",
        "```bash\n",
        "['CampusX', 'is', 'a', 'channel', 'for', 'data-science', 'aspirants.']\n",
        "```"
      ]
    },
    {
      "cell_type": "code",
      "execution_count": null,
      "metadata": {
        "id": "rLg6AUhf14wI"
      },
      "outputs": [],
      "source": [
        "list1 = ['CampusX is a channel', 'for data-science', 'aspirants.']\n",
        "new = []\n",
        "for i in list1 :\n",
        "    new.extend(i.split())\n",
        "print(new)\n",
        "       "
      ]
    },
    {
      "cell_type": "markdown",
      "metadata": {
        "id": "ebqIC0Xa16dG"
      },
      "source": [
        "### `Problem 9:` Convert Character Matrix to single String using string comprehension.\n",
        "\n",
        "**Example 1:**\n",
        "\n",
        "Input:\n",
        "```bash\n",
        "[['c', 'a', 'm', 'p', 'u', 'x'], ['i', 's'], ['b', 'e', 's', 't'], ['c', 'h', 'a', 'n', 'n', 'e', 'l']]\n",
        "```\n",
        "\n",
        "Output:\n",
        "```bash\n",
        "campux is best channel\n",
        "```"
      ]
    },
    {
      "cell_type": "code",
      "execution_count": null,
      "metadata": {
        "id": "KLKxzyZf2BLr"
      },
      "outputs": [],
      "source": [
        "x = [['c', 'a', 'm', 'p', 'u', 'x'], ['i', 's'], ['b', 'e', 's', 't'], ['c', 'h', 'a', 'n', 'n', 'e', 'l']]\n",
        "result = []\n",
        "for i in x:\n",
        "    result.append(\"\".join(i))\n",
        "print(result)\n",
        "\n",
        "y = \" \".join(result)\n",
        "print(y)\n",
        "\n",
        "#______________________________________________________\n",
        "# one line code \n",
        "\" \".join([\"\".join(i) for i in x])\n"
      ]
    },
    {
      "cell_type": "markdown",
      "metadata": {
        "id": "0v1Z3Snp2DAm"
      },
      "source": [
        "### `Problem 10:` Add Space between Potential Words.\n",
        "\n",
        "**Example:**\n",
        "\n",
        "Input:\n",
        "\n",
        "```bash\n",
        "['campusxIs', 'bestFor', 'dataScientist']\n",
        "```\n",
        "\n",
        "Output:\n",
        "```bash\n",
        "['campusx Is', 'best For', 'data Scientist']\n",
        "```"
      ]
    },
    {
      "cell_type": "code",
      "execution_count": null,
      "metadata": {
        "id": "pltvqSXa2IxP"
      },
      "outputs": [],
      "source": [
        "# Code here"
      ]
    },
    {
      "cell_type": "markdown",
      "metadata": {
        "id": "tnmBk1M52KXW"
      },
      "source": [
        "### `Problem 11:` Write a program that can perform union operation on 2 lists\n",
        "\n",
        "**Example:**\n",
        "\n",
        "Input:\n",
        "\n",
        "```bash\n",
        "[1,2,3,4,5,1]\n",
        "[2,3,5,7,8]\n",
        "```\n",
        "\n",
        "Output:\n",
        "```bash\n",
        "[1,2,3,4,5,7,8]\n",
        "```"
      ]
    },
    {
      "cell_type": "code",
      "execution_count": null,
      "metadata": {
        "id": "u0AgIToU2-Ht"
      },
      "outputs": [],
      "source": [
        "l1 = [1,2,3,4,5,1]\n",
        "l2 = [2,3,5,7,8]\n",
        "x = set(l1+l2)\n",
        "y = list(x)\n",
        "print(y)\n",
        "\n",
        "#------------------------------------\n",
        "# method 2 \n",
        "l1 = [1,2,3,4,5,1]\n",
        "l2 = [2,3,5,7,8]\n",
        "\n",
        "union = []\n",
        "\n",
        "for i in l1 :\n",
        "    if i not in union:\n",
        "        union.append(i)\n",
        "for j in l2 :\n",
        "    if j not in union:\n",
        "        union.append(j) \n",
        "print(union)"
      ]
    },
    {
      "cell_type": "markdown",
      "metadata": {
        "id": "Yt8x67Ch3Ow1"
      },
      "source": [
        "### `Problem 12:` Write a program that can find the max number of each row of a matrix\n",
        "\n",
        "**Example:**\n",
        "\n",
        "Input:\n",
        "\n",
        "```bash\n",
        "[[1,2,3],[4,5,6],[7,8,9]]\n",
        "```\n",
        "\n",
        "Output:\n",
        "```bash\n",
        "[3,6,9]\n",
        "```"
      ]
    },
    {
      "cell_type": "code",
      "execution_count": null,
      "metadata": {
        "id": "7QopAaAI3noh"
      },
      "outputs": [],
      "source": [
        "l = [[1,2,3],[4,5,6],[7,8,9]]\n",
        "\n",
        "max_l = []\n",
        "for i in l:\n",
        "    max_l.append(max(i))\n",
        "print(max_l)"
      ]
    },
    {
      "cell_type": "markdown",
      "metadata": {
        "id": "DBZlUmnt3pGT"
      },
      "source": [
        "### `Problem 13:` Write a list comprehension to print the following matrix\n",
        "\n",
        "[[0, 1, 2], [3, 4, 5], [6, 7, 8]]"
      ]
    },
    {
      "cell_type": "code",
      "execution_count": null,
      "metadata": {
        "id": "Ip4e8M-S356h"
      },
      "outputs": [],
      "source": [
        "[[j+3*i for j in range(0,3)] for i in range(0,3)]"
      ]
    },
    {
      "cell_type": "markdown",
      "metadata": {
        "id": "j3vTuFC737kG"
      },
      "source": [
        "### `Problem 14:` Write a list comprehension that can transpose a given matrix\n",
        "\n",
        "matrix = [<br>\n",
        "  [1,2,3],<br>\n",
        "          [4,5,6],<br>\n",
        "          [7,8,9]<br>]<br>\n",
        "\n",
        "[1, 4, 7]<br>\n",
        "[2, 5, 8]<br>\n",
        "[3, 6, 9]<br>"
      ]
    },
    {
      "cell_type": "code",
      "execution_count": null,
      "metadata": {
        "id": "CcBNu0gk4XsR"
      },
      "outputs": [],
      "source": [
        "matrix = [[1,2,3],[4,5,6], [7,8,9]]\n",
        "[[row[i] for row in matrix] for i in range(len(matrix))]"
      ]
    },
    {
      "cell_type": "markdown",
      "metadata": {
        "id": "wRkSWFb74eOt"
      },
      "source": [
        "### `Problem 15:` Write a list comprehension that can flatten a nested list\n",
        "\n",
        "Input<br>\n",
        "matrix = [<br>\n",
        "  [1,2,3],<br>\n",
        "          [4,5,6],<br>\n",
        "          [7,8,9]<br>]<br>\n",
        "\n",
        "Output:<br>\n",
        "[1, 2, 3, 4, 5, 6, 7, 8, 9]"
      ]
    },
    {
      "cell_type": "code",
      "execution_count": null,
      "metadata": {
        "id": "jZGQ5el25HFr"
      },
      "outputs": [],
      "source": [
        "matrix = [[1,2,3],[4,5,6],[7,8,9]]\n",
        "\n",
        "flaten_list = []\n",
        "for i in range(len(matrix)):\n",
        "    for j in range(len(matrix[i])):\n",
        "        flaten_list.append(matrix[i][j])\n",
        "print(flaten_list)\n",
        "\n",
        "#____________________________________________\n",
        "\n",
        "# using list comprihension\n",
        "matrix = [[1,2,3],[4,5,6],[7,8,9]]\n",
        "flaten_list1 = []\n",
        "\n",
        "[flaten_list1.append(matrix[i][j]) for i in range(len(matrix))  for j in range(len(matrix[i])) ]\n",
        "print(flaten_list1)\n",
        "\n",
        "# ___________________________________________\n",
        "matrix = [[1,2,3],[4,5,6],[7,8,9]]\n",
        "F_l = []\n",
        "for i in matrix:\n",
        "    for j in i:\n",
        "        F_l.append(j)\n",
        "print(F_l)\n",
        "\n",
        "#______________________________________________\n",
        "matrix = [[1,2,3],[4,5,6],[7,8,9]]\n",
        "new_list1 =[]\n",
        "[j for i in matrix for j in i]"
      ]
    }
  ],
  "metadata": {
    "colab": {
      "provenance": []
    },
    "kernelspec": {
      "display_name": "Python 3",
      "name": "python3"
    },
    "language_info": {
      "name": "python"
    }
  },
  "nbformat": 4,
  "nbformat_minor": 0
}
