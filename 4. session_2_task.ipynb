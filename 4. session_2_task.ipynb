{
  "cells": [
    {
      "cell_type": "markdown",
      "metadata": {
        "id": "w6RlOAXV2PWh"
      },
      "source": [
        "### `Problem 1`: Write a program that will give you in hand monthly salary after deduction on CTC - HRA(10%), DA(5%), PF(3%) and taxes deduction as below:\n",
        "\n",
        "> Salary(Lakhs) : Tax(%)\n",
        "\n",
        "*   Below 5 : 0%\n",
        "*   5-10 : 10%\n",
        "*   10-20 : 20%\n",
        "*   aboove 20 : 30%"
      ]
    },
    {
      "cell_type": "code",
      "execution_count": 1,
      "metadata": {
        "id": "7tMHvKYO2etI"
      },
      "outputs": [],
      "source": [
        "# to get the user's CTC and Hold in variable ctc \n",
        "ctc = int(input(\"What is you CTC : \"))\n",
        "\n",
        "# to calculate the requirements \n",
        "monthly_sal = ctc/12\n",
        "hra = (monthly_sal*10)/100\n",
        "da = (monthly_sal*5)/100\n",
        "pf = (monthly_sal*3)/100\n",
        "in_hand_salary = (monthly_sal*82)/100\n",
        "\n",
        "# print the structure of the salary \n",
        "\n",
        "print(f\"HRA : {hra}/n DA : {da}/n PF : {pf}/n Monthly_in_hand_salary : {in_hand_salary}\")"
      ]
    },
    {
      "cell_type": "markdown",
      "metadata": {
        "id": "tYzCGqwl2hfN"
      },
      "source": [
        "### `Problem 2`: Write a program that take a user input of three angles and will find out whether it can form a triangle or not."
      ]
    },
    {
      "cell_type": "code",
      "execution_count": null,
      "metadata": {
        "id": "FYEqln-I2kxV"
      },
      "outputs": [],
      "source": [
        "# to get the input from the user \n",
        "a = int(\"Enter the angle : \")\n",
        "b = int(\"Enter the angle : \")\n",
        "c = int(\"Enter the angle : \")\n",
        "\n",
        "# to check trangle will be formed or not \n",
        "if a+b+c== 180 and a>0 and b>0 and c>0:\n",
        "    print(\"Trangle will be formed .\")\n",
        "else :\n",
        "    print(\"Wrong input.\")"
      ]
    },
    {
      "cell_type": "markdown",
      "metadata": {
        "id": "5vEpPh8C2pE4"
      },
      "source": [
        "### `Problem 3`: Write a program that will take user input of cost price and selling price and determines whether its a loss or a profit."
      ]
    },
    {
      "cell_type": "code",
      "execution_count": null,
      "metadata": {
        "id": "jDwBXlkO2sfl"
      },
      "outputs": [],
      "source": [
        "# to take the input from the user \n",
        "cp = float(int(\"Enter the cost price : \"))\n",
        "sp = float(int(\"Enter the selling price :\"))\n",
        "\n",
        "# to check the deal was profitable or loss \n",
        "if cp>sp:\n",
        "    print(\"You are in loss.\")\n",
        "elif cp<sp:\n",
        "    print(\"You make profit.\")\n",
        "else :\n",
        "    print(\"No profit No gain.\")"
      ]
    },
    {
      "cell_type": "markdown",
      "metadata": {
        "id": "J_FG_cJW2ugT"
      },
      "source": [
        "### `Problem 4`: Write a menu-driven program -\n",
        "1. cm to ft\n",
        "2. km to miles\n",
        "3. USD to INR\n",
        "4. exit"
      ]
    },
    {
      "cell_type": "code",
      "execution_count": null,
      "metadata": {
        "id": "yBHhaCGQ2zpD"
      },
      "outputs": [],
      "source": [
        "print(\"\"\" 1. cm to ft \n",
        "      2. km to miles \n",
        "      3. USD to INR\n",
        "      4. exit\n",
        " \"\"\")\n",
        "machine = True \n",
        "while machine:\n",
        "     \n",
        "    menu = int(input(\"Enter the choice : \"))\n",
        "    if menu == 1:\n",
        "        feet = float(input(\"Enter the value in cm : \"))/12\n",
        "        print(f\" Converted value in feet {feet} \")\n",
        "    elif menu == 2:\n",
        "        miles = float(input(\"Enter the value in km : \"))/1.6\n",
        "        print(f\"Value in Miles in {miles}\")\n",
        "    elif menu == 3 :\n",
        "        inr = float(input(\"Enter the value in USD\"))*87\n",
        "        print(f\"The value in INR is {inr}\")\n",
        "    elif menu == 4 :\n",
        "        machine = False \n",
        "    else:\n",
        "        print(\"You make the wrong input, Try again!\")\n",
        "\n"
      ]
    },
    {
      "cell_type": "markdown",
      "metadata": {
        "id": "LJJ30_Yw27ZU"
      },
      "source": [
        "### `Problem 5` - Exercise 12: Display Fibonacci series up to 10 terms.\n",
        "\n",
        "*Note: The Fibonacci Sequence is a series of numbers. The next number is found by adding up the two numbers before it. The first two numbers are 0 and 1. For example, 0, 1, 1, 2, 3, 5, 8, 13, 21. The next number in this series above is 13+21 = 34*"
      ]
    },
    {
      "cell_type": "code",
      "execution_count": null,
      "metadata": {
        "id": "ae_1rpe52-5R"
      },
      "outputs": [],
      "source": [
        "# to create 2 variable and give the value \n",
        "num1 , num2 = 0,1\n",
        "\n",
        "# to create a loop \n",
        "for i in range(10):\n",
        "    print(num1)\n",
        "    next = num1+num2\n",
        "    num1 = num2\n",
        "    num2 = next"
      ]
    },
    {
      "cell_type": "markdown",
      "metadata": {
        "id": "pk_I_S4m3PT5"
      },
      "source": [
        "### `Problem 6` - Find the factorial of a given number.\n",
        "\n",
        "Write a program to use the loop to find the factorial of a given number.\n",
        "\n",
        "The factorial (symbol: `!`) means to multiply all whole numbers from the chosen number down to 1.\n",
        "\n",
        "For example: calculate the factorial of 5\n",
        "\n",
        "```bash\n",
        "5! = 5 × 4 × 3 × 2 × 1 = 120\n",
        "```\n",
        "\n",
        "Output:\n",
        "\n",
        "```bash\n",
        "120\n",
        "```"
      ]
    },
    {
      "cell_type": "code",
      "execution_count": null,
      "metadata": {
        "id": "lzXxHegx3Rkc"
      },
      "outputs": [],
      "source": [
        "# to get the user input \n",
        "user_choice = int(input(\"Enter the number : \"))\n",
        "ans = 1\n",
        "for i in range(user_choice):\n",
        "    i*=ans\n",
        "print(f\" the factorial(!) of this number is {ans}\")"
      ]
    },
    {
      "cell_type": "markdown",
      "metadata": {
        "id": "-17IOi-g3UpU"
      },
      "source": [
        "### `Problem 7` - Reverse a given integer number.\n",
        "\n",
        "Example:\n",
        "\n",
        "`Input:`\n",
        "\n",
        "```bash\n",
        "76542\n",
        "```\n",
        "\n",
        "`Output:`\n",
        "\n",
        "```bash\n",
        "24567\n",
        "```"
      ]
    },
    {
      "cell_type": "code",
      "execution_count": null,
      "metadata": {
        "id": "wJwLpKCr3aVA"
      },
      "outputs": [],
      "source": [
        "# to get the input from the user \n",
        "num = int(input(\"Enter the number : \"))\n",
        "\n",
        "# to conver int to str datatype \n",
        "num_str = str(num)\n",
        "\n",
        "# to perform reverse in str\n",
        "reverse_num_str = num_str[::-1]\n",
        "\n",
        "# to conver str to num \n",
        "num_reverse = int(reverse_num_str)\n",
        "\n",
        "# print successfully the num in reverse order \n",
        "print(f\"The reverse order will be {num_reverse}\")\n"
      ]
    },
    {
      "cell_type": "markdown",
      "metadata": {
        "id": "-t8PJQaY3sHf"
      },
      "source": [
        "### `Problem 8`: Take a user input as integer N. Find out the sum from 1 to N. If any number if divisible by 5, then skip that number. And if the sum is greater than 300, don't need to calculate the sum further more. Print the final result. And don't use for loop to solve this problem.\n",
        "\n",
        "**Example 1:**\n",
        "\n",
        "`Input:`\n",
        "\n",
        "```bash\n",
        "30\n",
        "```\n",
        "\n",
        "`Output:`\n",
        "\n",
        "```bash\n",
        "276\n",
        "```"
      ]
    },
    {
      "cell_type": "code",
      "execution_count": null,
      "metadata": {
        "id": "GZB6mGMP3ujT"
      },
      "outputs": [],
      "source": [
        "# Get input from the user and convert it to an integer\n",
        "it = int(input(\"Enter the number: \"))\n",
        "\n",
        "# Initialize variables: current_num starts at 0 and total_sum starts at 0\n",
        "current_num = 0\n",
        "total_sum = 0\n",
        "\n",
        "# Start a while loop that runs as long as 'it' is greater than or equal to 1\n",
        "while it >= 1:\n",
        "    # Increment current_num by 1 in each iteration\n",
        "    current_num += 1\n",
        "    \n",
        "    # If current_num is not divisible by 5, add it to total_sum\n",
        "    if current_num % 5 != 0:\n",
        "        total_sum += current_num\n",
        "    \n",
        "    # If total_sum reaches or exceeds 300, break the loop\n",
        "    if total_sum >= 300:\n",
        "        break\n",
        "\n",
        "# Print the final value of current_num and total_sum after the loop ends\n",
        "print(current_num)\n",
        "print(total_sum)\n"
      ]
    },
    {
      "cell_type": "markdown",
      "metadata": {
        "id": "Q7ggImeA3xm4"
      },
      "source": [
        "### `Problem 9`: Write a program that keeps on accepting a number from the user until the user enters Zero. Display the sum and average of all the numbers."
      ]
    },
    {
      "cell_type": "code",
      "execution_count": null,
      "metadata": {
        "id": "t_YDSZDe4Kdo"
      },
      "outputs": [],
      "source": [
        "data = 0  # Initialize the sum variable\n",
        "count_A = 0 # Initialize the count_A variabel\n",
        "machine = True  # Set the flag to control the loop\n",
        "\n",
        "while machine:\n",
        "    num = int(input(\"Enter the number: \"))  # Take input from the user\n",
        "    if num != 0:\n",
        "        data += num  # Accumulate the input value\n",
        "        count_A+=1\n",
        "    else:\n",
        "        machine = False  # Exit the loop if the user enters 0\n",
        "\n",
        "print(f\"The final sum is: {data}\")  # Print the accumulated sum\n",
        "print(f\"The average of the data is : {data/count_A}\")\n"
      ]
    },
    {
      "cell_type": "markdown",
      "metadata": {
        "id": "6EhvEMvm4R7s"
      },
      "source": [
        "###`Problem 9`: Write a program which will find all such numbers which are divisible by 7 but are not a multiple of 5, between 2000 and 3200 (both included). The numbers obtained should be printed in a comma-separated sequence on a single line."
      ]
    },
    {
      "cell_type": "code",
      "execution_count": null,
      "metadata": {
        "id": "d6RgP1B34T6c"
      },
      "outputs": [],
      "source": [
        "# Initialize the empty list\n",
        "data = []\n",
        "\n",
        "# to get the data use loop \n",
        "for i in range (2000,3201,7):\n",
        "    if i % 5 != 0:\n",
        "        data.append(i)\n",
        "\n",
        "# to print the data in single line\n",
        "print(data)"
      ]
    },
    {
      "cell_type": "markdown",
      "metadata": {
        "id": "tYvmRR-G4Vp4"
      },
      "source": [
        "###`Problem 10`: Write a program, which will find all such numbers between 1000 and 3000 (both included) such that each digit of the number is an even number. The numbers obtained should be printed in a space-separated sequence on a single line.\n",
        "\n"
      ]
    },
    {
      "cell_type": "code",
      "execution_count": null,
      "metadata": {
        "id": "k6Gs1kIf4k19"
      },
      "outputs": [],
      "source": [
        "# to initialize a variable x \n",
        "x = []\n",
        "\n",
        "# to get the data using loop and feed the data in x \n",
        "for i in range(1000,3001,2):\n",
        "    x.append(str(i))\n",
        " \n",
        "# print the result \n",
        "print(\" \".join(x))"
      ]
    },
    {
      "cell_type": "markdown",
      "metadata": {
        "id": "GV18IINT4mf5"
      },
      "source": [
        "###`Problem 11`: A robot moves in a plane starting from the original point (0,0). The robot can move toward UP, DOWN, LEFT and RIGHT with a given steps.\n",
        "The trace of robot movement is shown as the following:\n",
        "```\n",
        "UP 5\n",
        "DOWN 3\n",
        "LEFT 3\n",
        "RIGHT 2\n",
        "!\n",
        "```\n",
        "> The numbers after the direction are steps.\n",
        "\n",
        "> `!` means robot stop there.\n",
        "\n",
        "**Please write a program to compute the distance from current position after a sequence of movement and original point.**\n",
        "\n",
        "*If the distance is a float, then just print the nearest integer.*\n",
        "\n",
        "Example:\n",
        "\n",
        "`Input`:\n",
        "```\n",
        "UP 5\n",
        "DOWN 3\n",
        "LEFT 3\n",
        "RIGHT 2\n",
        "!\n",
        "```\n",
        "`Output`:\n",
        "```\n",
        "2\n",
        "```"
      ]
    },
    {
      "cell_type": "code",
      "execution_count": null,
      "metadata": {
        "id": "6UNMC2aR4w5x"
      },
      "outputs": [],
      "source": [
        "# Write code here\n",
        "\n",
        "pos = [0,0]\n",
        "while True :\n",
        "    s = input(\"Enter the robot path .\").upper()\n",
        "    if s == \"!\":\n",
        "        break\n",
        "    direction = s.split()[0]\n",
        "    steps = s.split()[1]  \n",
        "\n",
        "    if direction == \"UP\":\n",
        "        pos[1] = pos[1]+ steps\n",
        "    elif direction == \"DOWN\":\n",
        "        pos[1] = pos[1] - steps\n",
        "    elif direction == \"LEFT\":\n",
        "        pos[0] = pos[0] - steps\n",
        "    elif direction == \"RIGHT\":\n",
        "        pos[0] = pos[0] + steps \n",
        "\n",
        "print((pos[0]**2 + pos[1]**2)**0.5)\n",
        "\n"
      ]
    },
    {
      "cell_type": "markdown",
      "metadata": {
        "id": "3fsAIAhK5GYY"
      },
      "source": [
        "###`Problem 12`:Write a program to print whether a given number is a prime number or not"
      ]
    },
    {
      "cell_type": "code",
      "execution_count": null,
      "metadata": {
        "id": "j6y91lxy5LZs"
      },
      "outputs": [],
      "source": [
        "num = int(input(\"Enter the number : \"))\n",
        "flag = True\n",
        "\n",
        "for i in range(2,num):\n",
        "    if num % i ==0 :\n",
        "        Flag = False \n",
        "        break\n",
        "\n",
        "if flag == True :\n",
        "    print(f\"{num} is Prime number .\")\n",
        "else :\n",
        "    print(f\"{num} is composite number .\")\n"
      ]
    },
    {
      "cell_type": "markdown",
      "metadata": {
        "id": "asAbmbK-5NHv"
      },
      "source": [
        "###`Problem 13`:Print all the Armstrong numbers in a given range.\n",
        "Range will be provided by the user<br>\n",
        "Armstrong number is a number that is equal to the sum of cubes of its digits. For example 0, 1, 153, 370, 371 and 407 are the Armstrong numbers."
      ]
    },
    {
      "cell_type": "code",
      "execution_count": null,
      "metadata": {
        "id": "PZuI67pm5jCT"
      },
      "outputs": [],
      "source": [
        "# Function to check if a number is an Armstrong number\n",
        "def is_armstrong(num):\n",
        "    # Convert the number to a string to get each digit\n",
        "    digits = [int(digit) for digit in str(num)]\n",
        "    \n",
        "    # Calculate the sum of cubes of its digits\n",
        "    sum_of_cubes = sum(digit ** 3 for digit in digits)\n",
        "    \n",
        "    # If the sum of cubes equals the original number, it is an Armstrong number\n",
        "    return sum_of_cubes == num\n",
        "\n",
        "# Function to print Armstrong numbers in a given range\n",
        "def print_armstrong_numbers(start, end):\n",
        "    print(f\"Armstrong numbers between {start} and {end}:\")\n",
        "    \n",
        "    # Loop through the range\n",
        "    for num in range(start, end + 1):\n",
        "        if is_armstrong(num):\n",
        "            print(num)\n",
        "\n",
        "# Input range from the user\n",
        "start = int(input(\"Enter the start of the range: \"))\n",
        "end = int(input(\"Enter the end of the range: \"))\n",
        "\n",
        "# Print Armstrong numbers in the specified range\n",
        "print_armstrong_numbers(start, end)\n"
      ]
    },
    {
      "cell_type": "markdown",
      "metadata": {
        "id": "ClCQZMqT7gK0"
      },
      "source": [
        "###`Problem 14`:Calculate the angle between the hour hand and minute hand.\n",
        "\n",
        "Note: There can be two angles between hands; we need to print a minimum of two. Also, we need to print the floor of the final result angle. For example, if the final angle is 10.61, we need to print 10.\n",
        "\n",
        "Input:<br>\n",
        "H = 9 , M = 0<br>\n",
        "Output:<br>\n",
        "90<br>\n",
        "Explanation:<br>\n",
        "The minimum angle between hour and minute\n",
        "hand when the time is 9 is 90 degress."
      ]
    },
    {
      "cell_type": "code",
      "execution_count": null,
      "metadata": {
        "id": "tNBTCZML7jy_"
      },
      "outputs": [],
      "source": [
        "import math\n",
        "\n",
        "def find_angle(H, M):\n",
        "    # Calculate the angle of the minute hand\n",
        "    minute_angle = 6 * M\n",
        "    \n",
        "    # Calculate the angle of the hour hand (considering the additional movement due to minutes)\n",
        "    hour_angle = 30 * H + 0.5 * M\n",
        "    \n",
        "    # Find the absolute difference between the two angles\n",
        "    angle_difference = abs(minute_angle - hour_angle)\n",
        "    \n",
        "    # Find the smaller angle between the two possible angles\n",
        "    smaller_angle = min(angle_difference, 360 - angle_difference)\n",
        "    \n",
        "    # Return the floor of the smaller angle\n",
        "    return math.floor(smaller_angle)\n",
        "\n",
        "# Example input\n",
        "H = 9  # Hour\n",
        "M = 0  # Minute\n",
        "\n",
        "# Find and print the minimum angle between the hour and minute hands\n",
        "print(find_angle(H, M))  # Output should be 90\n"
      ]
    },
    {
      "cell_type": "markdown",
      "metadata": {
        "id": "GwacF9Co72Qc"
      },
      "source": [
        "###`Problem 15`:Given two rectangles, find if the given two rectangles overlap or not. A rectangle is denoted by providing the x and y coordinates of two points: the left top corner and the right bottom corner of the rectangle. Two rectangles sharing a side are considered overlapping. (L1 and R1 are the extreme points of the first rectangle and L2 and R2 are the extreme points of the second rectangle).\n",
        "\n",
        "Note: It may be assumed that the rectangles are parallel to the coordinate axis.\n",
        "\n",
        "<img src='https://www.geeksforgeeks.org/wp-content/uploads/rectanglesOverlap.png' width='300' height='200'>"
      ]
    },
    {
      "cell_type": "code",
      "execution_count": null,
      "metadata": {
        "id": "6rrw_lpH78Rs"
      },
      "outputs": [],
      "source": [
        "# Function to check if two rectangles overlap\n",
        "def is_overlapping(L1, R1, L2, R2):\n",
        "    # If one rectangle is to the left of the other\n",
        "    if R1[0] < L2[0] or L1[0] > R2[0]:\n",
        "        return False\n",
        "    \n",
        "    # If one rectangle is above the other\n",
        "    if R1[1] > L2[1] or L1[1] < R2[1]:\n",
        "        return False\n",
        "    \n",
        "    return True\n",
        "\n",
        "# Example coordinates of two rectangles\n",
        "L1 = (0, 10)  # Top-left corner of the first rectangle\n",
        "R1 = (10, 0)  # Bottom-right corner of the first rectangle\n",
        "L2 = (5, 5)   # Top-left corner of the second rectangle\n",
        "R2 = (15, -5) # Bottom-right corner of the second rectangle\n",
        "\n",
        "# Check if they overlap\n",
        "if is_overlapping(L1, R1, L2, R2):\n",
        "    print(\"Rectangles overlap\")\n",
        "else:\n",
        "    print(\"Rectangles do not overlap\")\n"
      ]
    }
  ],
  "metadata": {
    "colab": {
      "provenance": []
    },
    "kernelspec": {
      "display_name": "Python 3",
      "name": "python3"
    },
    "language_info": {
      "codemirror_mode": {
        "name": "ipython",
        "version": 3
      },
      "file_extension": ".py",
      "mimetype": "text/x-python",
      "name": "python",
      "nbconvert_exporter": "python",
      "pygments_lexer": "ipython3",
      "version": "3.12.2"
    }
  },
  "nbformat": 4,
  "nbformat_minor": 0
}
