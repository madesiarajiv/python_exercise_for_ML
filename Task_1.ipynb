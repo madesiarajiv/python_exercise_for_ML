{
  "cells": [
    {
      "cell_type": "markdown",
      "metadata": {
        "id": "A05OG15VqOPF"
      },
      "source": [
        "# Task : Session 1\n",
        "Solve these questions own your own and try to test yourself what you have learned in the session.\n",
        "\n",
        "Happy Learning!"
      ]
    },
    {
      "cell_type": "markdown",
      "metadata": {
        "id": "2doIXf8bqe9_"
      },
      "source": [
        "### Q1 :- Print the given strings as per stated format.\n",
        "\n",
        "**Given strings**:\n",
        "```\n",
        "\"Data\" \"Science\" \"Mentorship\" \"Program\"\n",
        "\"By\" \"CampusX\"\n",
        "```\n",
        "**Output**:\n",
        "```\n",
        "Data-Science-Mentorship-Program-started-By-CampusX\n",
        "```\n",
        "\n",
        "Concept- [Seperator and End]"
      ]
    },
    {
      "cell_type": "code",
      "execution_count": 1,
      "metadata": {
        "id": "-em6d3KErDtp"
      },
      "outputs": [
        {
          "name": "stdout",
          "output_type": "stream",
          "text": [
            "Data-Science-Mentorship-Program-Started-By-CampusX\n"
          ]
        }
      ],
      "source": [
        "print(\"Data\", \"Science\", \"Mentorship\", \"Program\",\"Started\",\"By\",\"CampusX\",sep= \"-\")"
      ]
    },
    {
      "cell_type": "markdown",
      "metadata": {
        "id": "1KUpN7ZTrC3_"
      },
      "source": [
        "### Q2:- Write a program that will convert celsius value to fahrenheit."
      ]
    },
    {
      "cell_type": "code",
      "execution_count": 2,
      "metadata": {
        "id": "yxKYhYQiqWfj"
      },
      "outputs": [],
      "source": [
        "# To take input from the user and store the value in variable \"cel\" \n",
        "cel = float(input(\"Enter the value : \"))\n",
        "fahrenheit = cel + 9/5 + 32\n",
        "print(f\"{cel} Celcius to fahrenheit value is {fahrenheit} .\") "
      ]
    },
    {
      "cell_type": "markdown",
      "metadata": {
        "id": "RLrOBBJurLB2"
      },
      "source": [
        "### Q3:- Take 2 numbers as input from the user.Write a program to swap the numbers without using any special python syntax."
      ]
    },
    {
      "cell_type": "code",
      "execution_count": 3,
      "metadata": {
        "id": "yPn7if0TrJ4F"
      },
      "outputs": [],
      "source": [
        "# To take input from the user and store the value in variable num1 and num2 \n",
        "num1 = (input(\"Enter the first number : \"))\n",
        "num2 = (input(\"Enter the second number : \"))\n",
        "# print without swaping\n",
        "print(num1, num2)\n",
        "# to swap the number \n",
        "num1,num2 = num2,num1\n",
        "# print after swaping\n",
        "print(num1, num2)"
      ]
    },
    {
      "cell_type": "markdown",
      "metadata": {
        "id": "waLCP1bjr7ML"
      },
      "source": [
        "### Q4:- Write a program to find the euclidean distance between two coordinates.Take both the coordinates from the user as input."
      ]
    },
    {
      "cell_type": "code",
      "execution_count": 12,
      "metadata": {
        "id": "Pl1Sv-xnrxnH"
      },
      "outputs": [],
      "source": [
        "# to take the value of the coordinates from the user \n",
        "x1,y1 = int(input(\"Enter the x1 : \")), int(input(\"Enter the y1 : \"))\n",
        "x2,y2 = int(input(\"Enter the x2 : \")), int(input(\"Enter the y2 : \"))\n",
        "# calculate the euclidean distance \n",
        "distance = (x2-x1)**2 + (y2-y1)**2"
      ]
    },
    {
      "cell_type": "markdown",
      "metadata": {
        "id": "VLrhg-FRsHjR"
      },
      "source": [
        "### Q5:- Write a program to find the simple interest when the value of principle,rate of interest and time period is provided by the user.\n"
      ]
    },
    {
      "cell_type": "code",
      "execution_count": 13,
      "metadata": {
        "id": "s40DlReZsTmY"
      },
      "outputs": [],
      "source": [
        "# to take the user input \n",
        "p= float(int(\"Enter P amount: \"))\n",
        "r = float(input(\"Enter the rate of Interest: \"))\n",
        "t = int(input(\"Enter the time period: \"))\n",
        "\n",
        "# for calculation using this formula \n",
        "\n",
        "simple_interest =  (p*r*t)/100\n",
        "print(f\"simple_interest will be {simple_interest} .\")"
      ]
    },
    {
      "cell_type": "markdown",
      "metadata": {
        "id": "LMy0BTUktYKa"
      },
      "source": [
        "### Q6:- Write a program that will tell the number of dogs and chicken are there when the user will provide the value of total heads and legs.\n",
        "\n",
        "For example:\n",
        "Input:\n",
        "heads -> 4\n",
        "legs -> 12\n",
        "<br>\n",
        "Output:\n",
        "dogs -> 2\n",
        "chicken -> 2\n",
        "\n",
        "\n",
        "\n"
      ]
    },
    {
      "cell_type": "code",
      "execution_count": 14,
      "metadata": {
        "id": "XSBvJoA4tXaG"
      },
      "outputs": [],
      "source": [
        "# to get the total number of heads and legs from the user\n",
        "heads = int(input(\"Enter the total number of heads: \"))\n",
        "legs = int(input(\"Enter the total number of legs: \"))\n",
        "\n",
        "# calculate the number of dogs\n",
        "dogs = (legs - 2 * heads) // 2\n",
        "\n",
        "# calculate the number of chickens\n",
        "chickens = heads - dogs\n",
        "\n",
        "# check if the solution is valid\n",
        "if dogs >= 0 and chickens >= 0 and 4 * dogs + 2 * chickens == legs:\n",
        "    print(f\"The number of dogs is: {dogs}\")\n",
        "    print(f\"The number of chickens is: {chickens}\")\n",
        "else:\n",
        "    print(\"No valid solution. Please check the input values.\")\n"
      ]
    },
    {
      "cell_type": "markdown",
      "metadata": {
        "id": "gJ7C5kZYt4BP"
      },
      "source": [
        "### Q7:- Write a program to find the sum of squares of first n natural numbers where n will be provided by the user."
      ]
    },
    {
      "cell_type": "code",
      "execution_count": 15,
      "metadata": {
        "id": "_tHsmEHzt2nX"
      },
      "outputs": [],
      "source": [
        "# to get the value of n from the user\n",
        "n = int(input(\"Enter a number: \"))\n",
        "\n",
        "# initialize sum to 0\n",
        "sum_of_squares = 0\n",
        "\n",
        "# loop through the numbers from 1 to n\n",
        "for i in range(1, n + 1):\n",
        "    sum_of_squares += i ** 2  # Add the square of the number to the sum\n",
        "\n",
        "# print the result\n",
        "print(f\"The sum of squares of the first {n} natural numbers is: {sum_of_squares}\")"
      ]
    },
    {
      "cell_type": "markdown",
      "metadata": {
        "id": "FHrMM7g-yG1h"
      },
      "source": [
        "### Q8:- Given the first 2 terms of an Arithmetic Series.Find the Nth term of the series. Assume all inputs are provided by the user."
      ]
    },
    {
      "cell_type": "code",
      "execution_count": 16,
      "metadata": {
        "id": "go4_kmZmyVSx"
      },
      "outputs": [],
      "source": [
        "# to get the first and second term from the user\n",
        "first_term = int(input(\"Enter the first term (a): \"))\n",
        "second_term = int(input(\"Enter the second term: \"))\n",
        "\n",
        "# calculate the common difference\n",
        "d = second_term - first_term\n",
        "\n",
        "# get the value of N (the term number to find)\n",
        "n = int(input(\"Enter the term number (N): \"))\n",
        "\n",
        "# Calculate the Nth term using the formula\n",
        "nth_term = first_term + (n - 1) * d\n",
        "\n",
        "# print the result\n",
        "print(f\"The {n}th term of the arithmetic series is: {nth_term}\")"
      ]
    },
    {
      "cell_type": "markdown",
      "metadata": {
        "id": "QgyRX_es1oum"
      },
      "source": [
        "### Q9:- Given 2 fractions, find the sum of those 2 fractions.Take the numerator and denominator values of the fractions from the user."
      ]
    },
    {
      "cell_type": "code",
      "execution_count": 17,
      "metadata": {
        "id": "X05xqFS1yW16"
      },
      "outputs": [],
      "source": [
        "# to get the fraction from the user \n",
        "n1 = int(input(\"Enter the numerator : \"))\n",
        "d1 = int(input(\"Enter the denominator : \"))\n",
        "n2 = int(input(\"Enter the numerator : \"))\n",
        "d2 = int(input(\"Enter the denominator : \"))\n",
        "\n",
        "# to calculate the sum of two fractions \n",
        "result = (n1/d1 + n2/d2)\n",
        "\n",
        "# to print the result \n",
        "print(f\"The sum of two fraction is {result}\")"
      ]
    },
    {
      "cell_type": "markdown",
      "metadata": {
        "id": "eaql38ln13u7"
      },
      "source": [
        "### Q10:- Given the height, width and breadth of a milk tank, you have to find out how many glasses of milk can be obtained? Assume all the inputs are provided by the user.\n",
        "\n",
        "\n",
        "\n",
        "Input:<br>\n",
        "Dimensions of the milk tank<br>\n",
        "H = 20cm, L = 20cm, B = 20cm\n",
        "<br><br>\n",
        "Dimensions of the glass<br>\n",
        "h = 3cm, r = 1cm"
      ]
    },
    {
      "cell_type": "code",
      "execution_count": 18,
      "metadata": {
        "id": "FePZqno74eWv"
      },
      "outputs": [],
      "source": [
        "# to get the Dimension imformation of the tank \n",
        "H = int(\"Enter the height of the tank : \")\n",
        "W= int(\"Enter the width of the tank : \")\n",
        "B= int(\"Enter the breadth of the tank :  \")\n",
        "\n",
        "# to get the Dimension imformation of the glass\n",
        "h= int(\"Enter the height of the glass : \")\n",
        "r = int(\"Enter the radius of the glass : \")\n",
        "\n",
        "# to calculate the volume of the tank \n",
        "vol_tank = H*W*B\n",
        "\n",
        "# to calculate the volume of the glass \n",
        "vol_glass = 3.14*h*(r**2)\n",
        "\n",
        "# to calculate the how many glasses of milk can be obtained from the tank \n",
        "result = int(vol_tank/vol_glass)\n",
        "\n",
        "# print the result \n",
        "print(f\"{result} glasses of milk can be obtained from the tank . \")"
      ]
    }
  ],
  "metadata": {
    "colab": {
      "provenance": []
    },
    "kernelspec": {
      "display_name": "Python 3",
      "name": "python3"
    },
    "language_info": {
      "codemirror_mode": {
        "name": "ipython",
        "version": 3
      },
      "file_extension": ".py",
      "mimetype": "text/x-python",
      "name": "python",
      "nbconvert_exporter": "python",
      "pygments_lexer": "ipython3",
      "version": "3.11.5"
    }
  },
  "nbformat": 4,
  "nbformat_minor": 0
}
